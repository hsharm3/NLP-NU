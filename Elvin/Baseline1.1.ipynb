{
 "cells": [
  {
   "cell_type": "code",
   "execution_count": 25,
   "metadata": {
    "collapsed": true
   },
   "outputs": [],
   "source": [
    "#Date: 2/8\n",
    "#Version: 1.1\n",
    "# Add evaluation metric and also split textual and intuitive classfication\n",
    "\n",
    "import numpy as np  # linear algebra\n",
    "import math  \n",
    "import nltk\n",
    "import scipy\n",
    "from nltk.corpus import stopwords\n",
    "from nltk.stem import WordNetLemmatizer   #see, sees, saw -> see\n",
    "from collections import Counter\n",
    "import re  # to get process information\n",
    "import os\n",
    "import gc\n",
    "from sklearn.feature_extraction.text import CountVectorizer, TfidfVectorizer\n",
    "from sklearn.linear_model import Ridge, Lasso\n",
    "from sklearn.svm import SVC, LinearSVC\n"
   ]
  },
  {
   "cell_type": "code",
   "execution_count": 26,
   "metadata": {
    "collapsed": true
   },
   "outputs": [],
   "source": [
    "def get_tokens(text):\n",
    "\tlowers = text.lower()\n",
    "\tlowers = re.sub(\"[\\:\\.\\!\\/_|,$%^*(+\\\"\\']+|[+——！，。？、~@#￥%……&*（）]+\",\"\",lowers)    \t\t#get rid of symbols\n",
    "\ttokens = nltk.word_tokenize(lowers)\t\t\t\t\t\t\t\t\t\t\t#question here: lemma?big numbers?\n",
    "\tlist_stopWords=list(set(stopwords.words('english')))\n",
    "\ttokens = [w for w in tokens if not w in list_stopWords]\t\t\t\t#get rid of stopwords\n",
    "\treturn tokens\n",
    "\n",
    "\n",
    "#[['a','b','c'],['d','e','f']]   -------> ['a b c','d e f'] for tfidf format\n",
    "def two2one(two_d):\n",
    "\tone_d = []\n",
    "\tfor i in range(len(two_d)):\n",
    "\t\tfor j in range(len(two_d[i])):\n",
    "\t\t\tif j ==0:\n",
    "\t\t\t\ttemp = two_d[i][j]\n",
    "\t\t\telse:\n",
    "\t\t\t\ttemp += ' '\n",
    "\t\t\t\ttemp += two_d[i][j]\n",
    "\t\tone_d.append(temp)\t\n",
    "\treturn one_d\n",
    "\n",
    "def testreshape(train,test):\n",
    "\ttemp_test_x = test_x.toarray()\n",
    "\ttemp_test_x = temp_test_x.tolist()\n",
    "\tprint(len(temp_test_x),len(temp_test_x[0]))\n",
    "\tfor row in temp_test_x:\n",
    "\t\tfor i in range(len(train[0]) - len(test[0])):\n",
    "\t\t\trow.append(0)\n",
    "\tprint(len(temp_test_x),len(temp_test_x[0]))\n",
    "\ttest_x = scipy.sparse.csr_matrix(temp_test_x)\n",
    "\treturn test_x\n",
    "\n",
    "def get_accuracy(predict, groundtruth):\n",
    "\tcount = 0\n",
    "\tfor i in range(len(predict)):\n",
    "\t\tif predict[i] == groundtruth[i]:\n",
    "\t\t\tcount += 1\n",
    "\taccuracy = count*1.0/len(predict)\n",
    "\treturn accuracy"
   ]
  },
  {
   "cell_type": "code",
   "execution_count": 27,
   "metadata": {
    "collapsed": true
   },
   "outputs": [],
   "source": [
    "#read a file\n",
    "file = open(\"ObesitySen1\")\n",
    "file_train = open(\"train_groundtruth.xml\")\n",
    "file_test = open(\"test_groundtruth.xml\")\n",
    "try:\n",
    "\tall_text = file.read()\n",
    "\ttrain_truth = file_train.readlines()\n",
    "\ttest_truth = file_test.readlines()\n",
    "finally:\n",
    "\tfile.close()\n",
    "\tfile_train.close()\n",
    "\tfile_test.close()\n",
    "\n",
    "#break into lists\n",
    "text = all_text.split('[report_end]')\t\t#break into patient's individual records\n",
    "text.pop(0)\t\t\t\t\t\t\t\t\t#eliminate the first element because it is a Null\n",
    "\n",
    "EHR4patients = []\t\t\t\t\t\t\t#Each EHR refers a list which contains all the words inside the EHR\n",
    "for i in range(len(text)):\n",
    "\ttemp = get_tokens(text[i])\n",
    "\tEHR4patients.append(temp)\n",
    "\n",
    "EHR_in_one = two2one(EHR4patients)"
   ]
  },
  {
   "cell_type": "code",
   "execution_count": 28,
   "metadata": {
    "collapsed": true
   },
   "outputs": [],
   "source": [
    "#build train and test set\n",
    "id_pattern = re.compile('\\d+')\n",
    "obesity_pattern = re.compile('[NYUQ]')\n",
    "\n",
    "test_textual_x_id = []\n",
    "test_textual_y = []\n",
    "for i in range(5593,6040):\t\t\t\t\t#5593-6040\n",
    "\ttemp_test_x_id = id_pattern.findall(test_truth[i])\n",
    "\ttemp_test_y = obesity_pattern.findall(test_truth[i])\n",
    "\ttest_textual_x_id.append(temp_test_x_id[0])\n",
    "\ttest_textual_y.append(temp_test_y[0])\n",
    "\n",
    "test_intui_x_id = []\n",
    "test_intui_y = []\n",
    "for i in range(13495,13988):\t\t\t\t\t#13495-13988\n",
    "\ttemp_test_x_id = id_pattern.findall(test_truth[i])\n",
    "\ttemp_test_y = obesity_pattern.findall(test_truth[i])\n",
    "\ttest_intui_x_id.append(temp_test_x_id[0])\n",
    "\ttest_intui_y.append(temp_test_y[0])\n",
    "\n",
    "train_textual_x_id = []\n",
    "train_textual_y = []\n",
    "for i in range(8722,9387):\t\t\t\t\t\t\t#8722-9387 in the xml\n",
    "\ttemp_train_x_id = id_pattern.findall(train_truth[i])\n",
    "\ttemp_train_y = obesity_pattern.findall(train_truth[i])\n",
    "\ttrain_textual_x_id.append(temp_train_x_id[0])\n",
    "\ttrain_textual_y.append(temp_train_y[0])\n",
    "\n",
    "train_intui_x_id = []\n",
    "train_intui_y = []\n",
    "for i in range(20162,20892):\t\t\t\t\t\t\t#20162-20892 in the xml\n",
    "\ttemp_train_x_id = id_pattern.findall(train_truth[i])\n",
    "\ttemp_train_y = obesity_pattern.findall(train_truth[i])\n",
    "\ttrain_intui_x_id.append(temp_train_x_id[0])\n",
    "\ttrain_intui_y.append(temp_train_y[0])\n"
   ]
  },
  {
   "cell_type": "code",
   "execution_count": 29,
   "metadata": {
    "scrolled": true
   },
   "outputs": [
    {
     "name": "stdout",
     "output_type": "stream",
     "text": [
      "tfidf done\n",
      "<class 'scipy.sparse.csr.csr_matrix'>\n"
     ]
    }
   ],
   "source": [
    "# get tfidf score of words\n",
    "vectorizer = TfidfVectorizer(max_df=0.95, min_df=3, max_features = 5000)\n",
    "X = vectorizer.fit_transform(EHR_in_one)\n",
    "print(\"tfidf done\")\n",
    "print(type(X))\n",
    "\n"
   ]
  },
  {
   "cell_type": "code",
   "execution_count": 30,
   "metadata": {},
   "outputs": [
    {
     "name": "stdout",
     "output_type": "stream",
     "text": [
      "5000\n"
     ]
    }
   ],
   "source": [
    "X = X.toarray()\n",
    "print(len(X[0]))"
   ]
  },
  {
   "cell_type": "code",
   "execution_count": 31,
   "metadata": {},
   "outputs": [
    {
     "name": "stdout",
     "output_type": "stream",
     "text": [
      "textual training set size:  665 5000\n",
      "textual testing set size:  447 5000\n",
      "intuitive training set size:  730 5000\n",
      "intuitive testing set size:  493 5000\n",
      "train set & test set done\n"
     ]
    },
    {
     "data": {
      "text/plain": [
       "166"
      ]
     },
     "execution_count": 31,
     "metadata": {},
     "output_type": "execute_result"
    }
   ],
   "source": [
    "#find those train&test intui&textual in that tfidf matrix\n",
    "train_textual_x = []\n",
    "train_intui_x = []\n",
    "for id in train_textual_x_id:\n",
    "\ttrain_textual_x.append(X[int(id)-1])\n",
    "for id in train_intui_x_id:\n",
    "\ttrain_intui_x.append(X[int(id)-1])\n",
    "test_textual_x = []\n",
    "test_intui_x = []\n",
    "for id in test_textual_x_id:\n",
    "\ttest_textual_x.append(X[int(id)-1])\n",
    "for id in test_intui_x_id:\n",
    "\ttest_intui_x.append(X[int(id)-1])\n",
    "\n",
    "\n",
    "print(\"textual training set size: \",len(train_textual_x),len(train_textual_x[0]))\n",
    "print(\"textual testing set size: \",len(test_textual_x),len(test_textual_x[0]))\n",
    "print(\"intuitive training set size: \",len(train_intui_x),len(train_intui_x[0]))\n",
    "print(\"intuitive testing set size: \",len(test_intui_x),len(test_intui_x[0]))\n",
    "print(\"train set & test set done\")\n",
    "\n",
    "train_textual_x = scipy.sparse.csr_matrix(train_textual_x)\n",
    "test_textual_x = scipy.sparse.csr_matrix(test_textual_x)\n",
    "train_intui_x = scipy.sparse.csr_matrix(train_intui_x)\n",
    "test_intui_x = scipy.sparse.csr_matrix(test_intui_x)\n",
    "\n",
    "gc.collect()"
   ]
  },
  {
   "cell_type": "code",
   "execution_count": 32,
   "metadata": {},
   "outputs": [
    {
     "name": "stdout",
     "output_type": "stream",
     "text": [
      "svm training for textual task done\n",
      "svm training for intuitive task done\n",
      "textual accuracy is:  0.767337807606264\n",
      "intuitive accuracy is:  0.7606490872210954\n"
     ]
    }
   ],
   "source": [
    "#training with SVM\n",
    "svm_clf = LinearSVC()\n",
    "textual_training = svm_clf.fit(train_textual_x, train_textual_y)\n",
    "textual_pred = svm_clf.predict(test_textual_x)\n",
    "print(\"svm training for textual task done\")\n",
    "\n",
    "intui_training = svm_clf.fit(train_intui_x, train_intui_y)\n",
    "intui_pred = svm_clf.predict(test_intui_x)\n",
    "print(\"svm training for intuitive task done\")\n",
    "\n",
    "#print(intui_pred)\n",
    "print(\"textual accuracy is: \",get_accuracy(textual_pred,test_textual_y))\n",
    "print(\"intuitive accuracy is: \",get_accuracy(intui_pred,test_intui_y))\n"
   ]
  }
 ],
 "metadata": {
  "kernelspec": {
   "display_name": "Python 3",
   "language": "python",
   "name": "python3"
  },
  "language_info": {
   "codemirror_mode": {
    "name": "ipython",
    "version": 3
   },
   "file_extension": ".py",
   "mimetype": "text/x-python",
   "name": "python",
   "nbconvert_exporter": "python",
   "pygments_lexer": "ipython3",
   "version": "3.6.1"
  }
 },
 "nbformat": 4,
 "nbformat_minor": 2
}
