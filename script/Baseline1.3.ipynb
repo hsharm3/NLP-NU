{
 "cells": [
  {
   "cell_type": "code",
   "execution_count": 1,
   "metadata": {
    "collapsed": true
   },
   "outputs": [],
   "source": [
    "#Date: 2/9\n",
    "#Version: 1.3\n",
    "#Added t-SNE visualization\n",
    "\n",
    "# Add evaluation metric and also split textual and intuitive classfication\n",
    "#1. Changed where tfidf is used. Originally it was for training set. Now we use tfidf for the whole corpus and then select those we need to train out of the matrix.\n",
    "#2. Distinguish textual and intuitive task\n",
    "#3. Add a simple accuracy as evaluation of performance.\n",
    "#4. Changed parameters in tfidf like minimum frequency and maximum of features in a corpus.\n",
    "\n",
    "import numpy as np  # linear algebra\n",
    "import math  \n",
    "import time\n",
    "import nltk\n",
    "import scipy\n",
    "from nltk.corpus import stopwords\n",
    "from nltk.stem import WordNetLemmatizer   #see, sees, saw -> see\n",
    "import re  # to get process information\n",
    "import time\n",
    "import matplotlib.pyplot as plt\n",
    "import gc\n",
    "from sklearn.feature_extraction.text import CountVectorizer, TfidfVectorizer\n",
    "from sklearn.svm import SVC, LinearSVC\n",
    "from sklearn.model_selection import GridSearchCV\n",
    "from sklearn.manifold import TSNE"
   ]
  },
  {
   "cell_type": "code",
   "execution_count": 2,
   "metadata": {
    "collapsed": true
   },
   "outputs": [],
   "source": [
    "def get_tokens(text):\n",
    "\tlowers = text.lower()\n",
    "\tlowers = re.sub(\"[\\:\\.\\!\\/_|,$%^*(+\\\"\\']+|[+——！，。？、~@#￥%……&*（）]+\",\"\",lowers)    \t\t#get rid of symbols\n",
    "\ttokens = nltk.word_tokenize(lowers)\t\t\t\t\t\t\t\t\t\t\t#question here: lemma?big numbers?\n",
    "\tlist_stopWords=list(set(stopwords.words('english')))\n",
    "\ttokens = [w for w in tokens if not w in list_stopWords]\t\t\t\t#get rid of stopwords\n",
    "\treturn tokens\n",
    "\n",
    "\n",
    "#[['a','b','c'],['d','e','f']]   -------> ['a b c','d e f'] for tfidf format\n",
    "def two2one(two_d):\n",
    "\tone_d = []\n",
    "\tfor i in range(len(two_d)):\n",
    "\t\tfor j in range(len(two_d[i])):\n",
    "\t\t\tif j ==0:\n",
    "\t\t\t\ttemp = two_d[i][j]\n",
    "\t\t\telse:\n",
    "\t\t\t\ttemp += ' '\n",
    "\t\t\t\ttemp += two_d[i][j]\n",
    "\t\tone_d.append(temp)\t\n",
    "\treturn one_d\n",
    "\n",
    "#we may not need this\n",
    "def testreshape(train,test):\n",
    "\ttemp_test_x = test_x.toarray()\n",
    "\ttemp_test_x = temp_test_x.tolist()\n",
    "\tprint(len(temp_test_x),len(temp_test_x[0]))\n",
    "\tfor row in temp_test_x:\n",
    "\t\tfor i in range(len(train[0]) - len(test[0])):\n",
    "\t\t\trow.append(0)\n",
    "\tprint(len(temp_test_x),len(temp_test_x[0]))\n",
    "\ttest_x = scipy.sparse.csr_matrix(temp_test_x)\n",
    "\treturn test_x\n",
    "\n",
    "#Evaluation\n",
    "def get_accuracy(predict, groundtruth):\n",
    "\tcount = 0\n",
    "\tfor i in range(len(predict)):\n",
    "\t\tif predict[i] == groundtruth[i]:\n",
    "\t\t\tcount += 1\n",
    "\taccuracy = count*1.0/len(predict)\n",
    "\treturn accuracy\n",
    "\n",
    "#This is for visualization\n",
    "#def cluster_scatter():\n",
    "    "
   ]
  },
  {
   "cell_type": "code",
   "execution_count": 3,
   "metadata": {
    "collapsed": true
   },
   "outputs": [],
   "source": [
    "#read a file\n",
    "starttime = time.time()\n",
    "file = open(\"ObesitySen1\")\n",
    "file_train = open(\"train_groundtruth.xml\")\n",
    "file_test = open(\"test_groundtruth.xml\")\n",
    "try:\n",
    "\tall_text = file.read()\n",
    "\ttrain_truth = file_train.readlines()\n",
    "\ttest_truth = file_test.readlines()\n",
    "finally:\n",
    "\tfile.close()\n",
    "\tfile_train.close()\n",
    "\tfile_test.close()\n",
    "\n",
    "#break into lists\n",
    "text = all_text.split('[report_end]')\t\t#break into patient's individual records\n",
    "text.pop(0)\t\t\t\t\t\t\t\t\t#eliminate the first element because it is a Null\n",
    "\n",
    "EHR4patients = []\t\t\t\t\t\t\t#Each EHR refers a list which contains all the words inside the EHR\n",
    "for i in range(len(text)):\n",
    "\ttemp = get_tokens(text[i])\n",
    "\tEHR4patients.append(temp)\n",
    "\n",
    "EHR_in_one = two2one(EHR4patients)"
   ]
  },
  {
   "cell_type": "code",
   "execution_count": 4,
   "metadata": {
    "collapsed": true
   },
   "outputs": [],
   "source": [
    "#build train and test set\n",
    "id_pattern = re.compile('\\d+')\n",
    "obesity_pattern = re.compile('[NYUQ]')\n",
    "\n",
    "test_textual_x_id = []\n",
    "test_textual_y = []\n",
    "for i in range(5593,6040):\t\t\t\t\t#5593-6040\n",
    "\ttemp_test_x_id = id_pattern.findall(test_truth[i])\n",
    "\ttemp_test_y = obesity_pattern.findall(test_truth[i])\n",
    "\ttest_textual_x_id.append(temp_test_x_id[0])\n",
    "\ttest_textual_y.append(temp_test_y[0])\n",
    "\n",
    "test_intui_x_id = []\n",
    "test_intui_y = []\n",
    "for i in range(13495,13988):\t\t\t\t\t#13495-13988\n",
    "\ttemp_test_x_id = id_pattern.findall(test_truth[i])\n",
    "\ttemp_test_y = obesity_pattern.findall(test_truth[i])\n",
    "\ttest_intui_x_id.append(temp_test_x_id[0])\n",
    "\ttest_intui_y.append(temp_test_y[0])\n",
    "\n",
    "train_textual_x_id = []\n",
    "train_textual_y = []\n",
    "for i in range(8722,9387):\t\t\t\t\t\t\t#8722-9387 in the xml\n",
    "\ttemp_train_x_id = id_pattern.findall(train_truth[i])\n",
    "\ttemp_train_y = obesity_pattern.findall(train_truth[i])\n",
    "\ttrain_textual_x_id.append(temp_train_x_id[0])\n",
    "\ttrain_textual_y.append(temp_train_y[0])\n",
    "\n",
    "train_intui_x_id = []\n",
    "train_intui_y = []\n",
    "for i in range(20162,20892):\t\t\t\t\t\t\t#20162-20892 in the xml\n",
    "\ttemp_train_x_id = id_pattern.findall(train_truth[i])\n",
    "\ttemp_train_y = obesity_pattern.findall(train_truth[i])\n",
    "\ttrain_intui_x_id.append(temp_train_x_id[0])\n",
    "\ttrain_intui_y.append(temp_train_y[0])\n"
   ]
  },
  {
   "cell_type": "code",
   "execution_count": 5,
   "metadata": {
    "scrolled": true
   },
   "outputs": [
    {
     "name": "stdout",
     "output_type": "stream",
     "text": [
      "23.50136375427246 : tfidf done\n",
      "<class 'scipy.sparse.csr.csr_matrix'>\n"
     ]
    }
   ],
   "source": [
    "# get tfidf score of words\n",
    "vectorizer = TfidfVectorizer(max_df=0.95, min_df=3, max_features = 5000)\n",
    "X = vectorizer.fit_transform(EHR_in_one)\n",
    "print(time.time()-starttime, \":\",\"tfidf done\")\n",
    "print(type(X))"
   ]
  },
  {
   "cell_type": "code",
   "execution_count": 6,
   "metadata": {},
   "outputs": [
    {
     "name": "stdout",
     "output_type": "stream",
     "text": [
      "5000\n"
     ]
    }
   ],
   "source": [
    "X = X.toarray()\n",
    "print(len(X[0]))"
   ]
  },
  {
   "cell_type": "code",
   "execution_count": 7,
   "metadata": {},
   "outputs": [
    {
     "name": "stdout",
     "output_type": "stream",
     "text": [
      "textual training set size:  665 5000\n",
      "textual testing set size:  447 5000\n",
      "intuitive training set size:  730 5000\n",
      "intuitive testing set size:  493 5000\n",
      "23.58426856994629 : train set & test set done\n"
     ]
    },
    {
     "data": {
      "text/plain": [
       "79"
      ]
     },
     "execution_count": 7,
     "metadata": {},
     "output_type": "execute_result"
    }
   ],
   "source": [
    "#find those train&test intui&textual in that tfidf matrix\n",
    "train_textual_x = []\n",
    "train_intui_x = []\n",
    "for id in train_textual_x_id:\n",
    "\ttrain_textual_x.append(X[int(id)-1])\n",
    "for id in train_intui_x_id:\n",
    "\ttrain_intui_x.append(X[int(id)-1])\n",
    "test_textual_x = []\n",
    "test_intui_x = []\n",
    "for id in test_textual_x_id:\n",
    "\ttest_textual_x.append(X[int(id)-1])\n",
    "for id in test_intui_x_id:\n",
    "\ttest_intui_x.append(X[int(id)-1])\n",
    "\n",
    "\n",
    "print(\"textual training set size: \",len(train_textual_x),len(train_textual_x[0]))\n",
    "print(\"textual testing set size: \",len(test_textual_x),len(test_textual_x[0]))\n",
    "print(\"intuitive training set size: \",len(train_intui_x),len(train_intui_x[0]))\n",
    "print(\"intuitive testing set size: \",len(test_intui_x),len(test_intui_x[0]))\n",
    "print(time.time()-starttime, \":\",\"train set & test set done\")\n",
    "\n",
    "train_textual_x = scipy.sparse.csr_matrix(train_textual_x)\n",
    "test_textual_x = scipy.sparse.csr_matrix(test_textual_x)\n",
    "train_intui_x = scipy.sparse.csr_matrix(train_intui_x)\n",
    "test_intui_x = scipy.sparse.csr_matrix(test_intui_x)\n",
    "\n",
    "gc.collect()"
   ]
  },
  {
   "cell_type": "code",
   "execution_count": 8,
   "metadata": {},
   "outputs": [
    {
     "name": "stdout",
     "output_type": "stream",
     "text": [
      "29.64564299583435 : svm training for textual task done\n",
      "The parameters of the best model are: \n",
      "38.02034139633179 : svm training for intuitive task done\n",
      "textual accuracy is:  0.7472035794183445\n",
      "intuitive accuracy is:  0.7647058823529411\n"
     ]
    }
   ],
   "source": [
    "#training with SVM\n",
    "\n",
    "svm_1 = SVC(kernel = 'rbf', C = 2,degree = 3, gamma = 0.5)\n",
    "textual_training = svm_1.fit(train_textual_x, train_textual_y)\n",
    "textual_pred = textual_training.predict(test_textual_x)\n",
    "print(time.time()-starttime, \":\",\"svm training for textual task done\")\n",
    "print('The parameters of the best model are: ')\n",
    "\n",
    "svm_2 = SVC(kernel = 'rbf', C = 4, degree = 3, gamma = 0.5)\n",
    "intui_training = svm_2.fit(train_intui_x, train_intui_y)\n",
    "intui_pred = intui_training.predict(test_intui_x)\n",
    "print(time.time()-starttime, \":\",\"svm training for intuitive task done\")\n",
    "\n",
    "#print(intui_pred)\n",
    "print(\"textual accuracy is: \",get_accuracy(textual_pred,test_textual_y))\n",
    "print(\"intuitive accuracy is: \",get_accuracy(intui_pred,test_intui_y))"
   ]
  },
  {
   "cell_type": "code",
   "execution_count": 9,
   "metadata": {
    "collapsed": true
   },
   "outputs": [],
   "source": [
    "dense_textual_x = test_textual_x.toarray()\n",
    "dense_intui_x = test_intui_x.toarray()"
   ]
  },
  {
   "cell_type": "markdown",
   "metadata": {},
   "source": [
    "Well this part says something.\n",
    "You can definitely see the result is not as good as we think. The logic here is:\n",
    "1. WE try to use t-SNE(a visualization method to map a high-dimension thing to a low-dimension thing sso that we can see that in 2 dimensions)\n",
    "2. Then mark the points a color depending on its label.\n",
    "We should have seen points in a certain cluster possessing generally same color. \n",
    "\n",
    "\n",
    "However it was not, this indicated 2 possiblities:\n",
    "1. t-SNE sucks. It fails to differentiate clusters correctly.\n",
    "2. Feature extraction sucks so that t-SNE fails to affrentiate.\n",
    "3. Prediction sucks in that we should predict labels(colors) approximately sharing distribution with clusters. But we did not so the prediction sucks.\n",
    "\n",
    "Actually the 3 reason can be traced into 1 which is the second one, feature extraction.We cannot blame the classfier. There must be something wrong with the featrue extraction part (tf-idf part)"
   ]
  },
  {
   "cell_type": "code",
   "execution_count": 12,
   "metadata": {
    "scrolled": false
   },
   "outputs": [
    {
     "name": "stdout",
     "output_type": "stream",
     "text": [
      "finished!\n"
     ]
    },
    {
     "data": {
      "image/png": "[encoded data removed]",
      "text/plain": [
       "<matplotlib.figure.Figure at 0x20fe9c73550>"
      ]
     },
     "metadata": {},
     "output_type": "display_data"
    }
   ],
   "source": [
    "intui_vis = TSNE(n_components = 4, learning_rate = 50).fit_transform(dense_intui_x)\n",
    "print(\"finished!\")\n",
    "#print(intui_vis)\n",
    "\n",
    "intui_vis1 = []\n",
    "intui_vis2 = []\n",
    "intui_vis3 = []\n",
    "intui_vis4 = []\n",
    "for i in range(len(intui_vis)):\n",
    "    if test_intui_y[i] == 'N':\n",
    "        intui_vis1.append(intui_vis[i])\n",
    "    elif test_intui_y[i] == 'Y':\n",
    "        intui_vis2.append(intui_vis[i])\n",
    "    elif test_intui_y[i] == 'Q':\n",
    "        intui_vis3.append(intui_vis[i])\n",
    "    else:\n",
    "        intui_vis4.append(intui_vis[i])\n",
    "intui_vis1 = np.array(intui_vis1)\n",
    "intui_vis2 = np.array(intui_vis2)\n",
    "intui_vis3 = np.array(intui_vis3)\n",
    "intui_vis4 = np.array(intui_vis4)\n",
    "plt.figure(figsize=(10, 10))\n",
    "plt.scatter(intui_vis1[:, 0], intui_vis1[:, 1], color = 'black')\n",
    "plt.scatter(intui_vis2[:, 0], intui_vis2[:, 1], color = 'r')\n",
    "plt.scatter(intui_vis3[:, 0], intui_vis3[:, 1], color = 'g')\n",
    "plt.scatter(intui_vis4[:, 0], intui_vis4[:, 1], color = 'b')\n",
    "plt.show() "
   ]
  }
 ],
 "metadata": {
  "kernelspec": {
   "display_name": "Python 3",
   "language": "python",
   "name": "python3"
  },
  "language_info": {
   "codemirror_mode": {
    "name": "ipython",
    "version": 3
   },
   "file_extension": ".py",
   "mimetype": "text/x-python",
   "name": "python",
   "nbconvert_exporter": "python",
   "pygments_lexer": "ipython3",
   "version": "3.6.1"
  }
 },
 "nbformat": 4,
 "nbformat_minor": 2
}
