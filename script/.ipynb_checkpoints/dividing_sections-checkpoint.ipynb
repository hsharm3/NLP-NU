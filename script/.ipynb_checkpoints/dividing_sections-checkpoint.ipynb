{
 "cells": [
  {
   "cell_type": "code",
   "execution_count": 3,
   "metadata": {},
   "outputs": [
    {
     "name": "stdout",
     "output_type": "stream",
     "text": [
      "1249\n"
     ]
    }
   ],
   "source": [
    "fd = open('final_output','r')\n",
    "text_in = fd.read()\n",
    "text_in = text_in.split('[report_end]')\n",
    "print(len(text_in))"
   ]
  },
  {
   "cell_type": "code",
   "execution_count": null,
   "metadata": {
    "collapsed": true
   },
   "outputs": [],
   "source": [
    "pd = []\n",
    "sd = []\n",
    "hpi = []\n",
    "pmh = []\n",
    "ped = []\n",
    "all_section = ['Discharge Date',  'PRINCIPAL DIAGNOSIS',     'SECONDARY DIAGNOSES', 'HISTORY OF PRESENT ILLNESS',\n",
    "                'PRE-ADMISSION MEDICATIONS', 'PAST MEDICAL HISTORY', 'FAMILY HISTORY',   'SOCIAL HISTORY',\n",
    "                'ALLERGIES', 'ADMISSION PHYSICAL EXAMINATION',  'STUDIES:' ,'PROCEDURE',\n",
    "                'HOSPITAL COURSE BY PROBLEM','COMPLICATIONS',\n",
    "                'CONSULTANTS', 'PHYSICAL EXAMINATION ON DISCHARGE',\n",
    "                'DISCHARGE MEDICATIONS', 'DISPOSITION', 'FOLLOW-UP APPOINTMENTS' ,'CODE STATUS', 'PRIMARY CARE PHYSICIAN']\n",
    "def end_bound(record, start):\n",
    "    i = start\n",
    "    i += 1\n",
    "    while True:\n",
    "        if i == len(record):\n",
    "            return i\n",
    "        for each in all_section:\n",
    "            if(record[i].find(each)!=-1 and record[i].find('Processing')!=-1):\n",
    "                return i\n",
    "        i += 1\n",
    "\n",
    "for shuzi in range(len(text_in)):\n",
    "    pd_e = []\n",
    "    sd_e = []\n",
    "    hpi_e = []\n",
    "    pmh_e = []\n",
    "    ped_e = []\n",
    "    record = text_in[shuzi].split('\\n')\n",
    "    \n",
    "    i = 0\n",
    "    while i < len(record):\n",
    "        # for pd\n",
    "        j = i\n",
    "        if (record[i].find('PRINCIPAL DIAGNOSIS') != -1) and (record[i].find('Processing')!= -1):\n",
    "            #print('a')\n",
    "            end = end_bound(record, i)\n",
    "            while j>=i and j<end:\n",
    "                pd_e.append(record[j])\n",
    "                j+=1\n",
    "        #sd\n",
    "        elif (record[i].find('SECONDARY DIAGNOSES') != -1) and (record[i].find('Processing')!= -1):\n",
    "            #print(shuzi,i,'s')\n",
    "            end = end_bound(record, i)\n",
    "            while j>=i and j<end:\n",
    "                sd_e.append(record[j])\n",
    "                j+=1     \n",
    "        #hpi\n",
    "        elif (record[i].find('HISTORY OF PRESENT ILLNESS') != -1) and (record[i].find('Processing')!= -1):\n",
    "            #print('d')\n",
    "            end = end_bound(record, i)\n",
    "            while j>=i and j<end:\n",
    "                #print('dd')\n",
    "                hpi_e.append(record[j])\n",
    "                j+=1  \n",
    " \n",
    "        #pmh\n",
    "        elif (record[i].find('PAST MEDICAL HISTORY') != -1) and (record[i].find('Processing')!= -1):\n",
    "            end = end_bound(record, i)\n",
    "            while j>=i and j<end:\n",
    "                pmh_e.append(record[j])\n",
    "                j+=1  \n",
    "                \n",
    "        #ped\n",
    "        elif (record[i].find('PHYSICAL EXAMINATION ON DISCHARGE') != -1) and (record[i].find('Processing')!= -1):\n",
    "            #print('g')\n",
    "            end = end_bound(record, i)\n",
    "            while j>=i and j<end:\n",
    "                ped_e.append(record[j])\n",
    "                j+=1  \n",
    "        i += 1\n",
    "\n",
    "    pd.append(pd_e)\n",
    "    sd.append(sd_e)\n",
    "    hpi.append(hpi_e)\n",
    "    pmh.append(pmh_e)\n",
    "    ped.append(ped_e)\n",
    "print(len(pd),len(sd),len(hpi),len(pmh),len(ped))"
   ]
  },
  {
   "cell_type": "code",
   "execution_count": 23,
   "metadata": {},
   "outputs": [
    {
     "name": "stdout",
     "output_type": "stream",
     "text": [
      "['Processing 00000000.tx.5: HISTORY OF PRESENT ILLNESS: The patient is an 86-year-old woman with a history of diabetes , chronic kidney disease , congestive heart failure with ejection fraction of 45% to 50% who presents from clinic with a chief complaint of fatigue and weakness for one week.  ', '', 'Phrase: HISTORY OF PRESENT ILLNESS', 'Meta Mapping (1000):', '  1000   C0262512:HISTORY OF PRESENT ILLNESS (History of present illness) [Organism Attribute]', 'Meta Mapping (1000):', '  1000   C0488508:History of present illness (History of present illness:Finding:Point in time:^Patient:Nominal:Reported) [Clinical Attribute]', '', 'Phrase: :', '', 'Phrase: The patient', 'Meta Mapping (1000):', '  1000   C0030705:*^patient (Patients) [Patient or Disabled Group]', 'Meta Mapping (1000):', '  1000   C2360836:Patient (Abortion consent:Finding:Point in time:^Patient:Document) [Clinical Attribute]', 'Meta Mapping (1000):', '  1000   C2360838:Patient (Hysterectomy consent:Finding:Point in time:^Patient:Document) [Clinical Attribute]', 'Meta Mapping (1000):', '  1000   C2360840:Patient (Sterilization consent:Finding:Point in time:^Patient:Document) [Clinical Attribute]', '', 'Phrase: is', '', 'Phrase: an 86-year-old woman with a history of diabetes ,', 'Meta Mapping (640):', '   573   C0439234:YEAR (year) [Temporal Concept]', '   573   C0580836:Old [Temporal Concept]', '   739   C0043210:WOMAN (Woman) [Population Group]', '   573   C0019664:History [Occupation or Discipline]', '   573   C0011847:Diabetes [Disease or Syndrome]', 'Meta Mapping (640):', '   573   C0439234:YEAR (year) [Temporal Concept]', '   573   C0580836:Old [Temporal Concept]', '   739   C0043210:WOMAN (Woman) [Population Group]', '   573   C0019664:History [Occupation or Discipline]', '   573   C0011849:Diabetes (Diabetes Mellitus) [Disease or Syndrome]', 'Meta Mapping (640):', '   573   C0439234:YEAR (year) [Temporal Concept]', '   573   C0580836:Old [Temporal Concept]', '   739   C0043210:WOMAN (Woman) [Population Group]', '   573   C0019665:history (Historical aspects qualifier) [Functional Concept]', '   573   C0011847:Diabetes [Disease or Syndrome]', 'Meta Mapping (640):', '   573   C0439234:YEAR (year) [Temporal Concept]', '   573   C0580836:Old [Temporal Concept]', '   739   C0043210:WOMAN (Woman) [Population Group]', '   573   C0019665:history (Historical aspects qualifier) [Functional Concept]', '   573   C0011849:Diabetes (Diabetes Mellitus) [Disease or Syndrome]', 'Meta Mapping (640):', '   573   C0439234:YEAR (year) [Temporal Concept]', '   573   C0580836:Old [Temporal Concept]', '   739   C0043210:WOMAN (Woman) [Population Group]', '   573   C0262512:History, NOS (History of present illness) [Organism Attribute]', '   573   C0011847:Diabetes [Disease or Syndrome]', 'Meta Mapping (640):', '   573   C0439234:YEAR (year) [Temporal Concept]', '   573   C0580836:Old [Temporal Concept]', '   739   C0043210:WOMAN (Woman) [Population Group]', '   573   C0262512:History, NOS (History of present illness) [Organism Attribute]', '   573   C0011849:Diabetes (Diabetes Mellitus) [Disease or Syndrome]', 'Meta Mapping (640):', '   573   C0439234:YEAR (year) [Temporal Concept]', '   573   C0580836:Old [Temporal Concept]', '   739   C0043210:WOMAN (Woman) [Population Group]', '   573   C0262926:History (Medical History) [Finding]', '   573   C0011847:Diabetes [Disease or Syndrome]', 'Meta Mapping (640):', '   573   C0439234:YEAR (year) [Temporal Concept]', '   573   C0580836:Old [Temporal Concept]', '   739   C0043210:WOMAN (Woman) [Population Group]', '   573   C0262926:History (Medical History) [Finding]', '   573   C0011849:Diabetes (Diabetes Mellitus) [Disease or Syndrome]', 'Meta Mapping (640):', '   573   C0439234:YEAR (year) [Temporal Concept]', '   573   C0580836:Old [Temporal Concept]', '   739   C0043210:WOMAN (Woman) [Population Group]', '   573   C1705255:History (Concept History) [Conceptual Entity]', '   573   C0011847:Diabetes [Disease or Syndrome]', 'Meta Mapping (640):', '   573   C0439234:YEAR (year) [Temporal Concept]', '   573   C0580836:Old [Temporal Concept]', '   739   C0043210:WOMAN (Woman) [Population Group]', '   573   C1705255:History (Concept History) [Conceptual Entity]', '   573   C0011849:Diabetes (Diabetes Mellitus) [Disease or Syndrome]', 'Meta Mapping (640):', '   573   C0439234:YEAR (year) [Temporal Concept]', '   573   C0580836:Old [Temporal Concept]', '   739   C0043210:WOMAN (Woman) [Population Group]', '   573   C2004062:History (History of previous events) [Finding]', '   573   C0011847:Diabetes [Disease or Syndrome]', 'Meta Mapping (640):', '   573   C0439234:YEAR (year) [Temporal Concept]', '   573   C0580836:Old [Temporal Concept]', '   739   C0043210:WOMAN (Woman) [Population Group]', '   573   C2004062:History (History of previous events) [Finding]', '   573   C0011849:Diabetes (Diabetes Mellitus) [Disease or Syndrome]', 'Meta Mapping (640):', '   573   C0439508:/Year (per year) [Temporal Concept]', '   573   C0580836:Old [Temporal Concept]', '   739   C0043210:WOMAN (Woman) [Population Group]', '   573   C0019664:History [Occupation or Discipline]', '   573   C0011847:Diabetes [Disease or Syndrome]', 'Meta Mapping (640):', '   573   C0439508:/Year (per year) [Temporal Concept]', '   573   C0580836:Old [Temporal Concept]', '   739   C0043210:WOMAN (Woman) [Population Group]', '   573   C0019664:History [Occupation or Discipline]', '   573   C0011849:Diabetes (Diabetes Mellitus) [Disease or Syndrome]', 'Meta Mapping (640):', '   573   C0439508:/Year (per year) [Temporal Concept]', '   573   C0580836:Old [Temporal Concept]', '   739   C0043210:WOMAN (Woman) [Population Group]', '   573   C0019665:history (Historical aspects qualifier) [Functional Concept]', '   573   C0011847:Diabetes [Disease or Syndrome]', 'Meta Mapping (640):', '   573   C0439508:/Year (per year) [Temporal Concept]', '   573   C0580836:Old [Temporal Concept]', '   739   C0043210:WOMAN (Woman) [Population Group]', '   573   C0019665:history (Historical aspects qualifier) [Functional Concept]', '   573   C0011849:Diabetes (Diabetes Mellitus) [Disease or Syndrome]', 'Meta Mapping (640):', '   573   C0439508:/Year (per year) [Temporal Concept]', '   573   C0580836:Old [Temporal Concept]', '   739   C0043210:WOMAN (Woman) [Population Group]', '   573   C0262512:History, NOS (History of present illness) [Organism Attribute]', '   573   C0011847:Diabetes [Disease or Syndrome]', 'Meta Mapping (640):', '   573   C0439508:/Year (per year) [Temporal Concept]', '   573   C0580836:Old [Temporal Concept]', '   739   C0043210:WOMAN (Woman) [Population Group]', '   573   C0262512:History, NOS (History of present illness) [Organism Attribute]', '   573   C0011849:Diabetes (Diabetes Mellitus) [Disease or Syndrome]', 'Meta Mapping (640):', '   573   C0439508:/Year (per year) [Temporal Concept]', '   573   C0580836:Old [Temporal Concept]', '   739   C0043210:WOMAN (Woman) [Population Group]', '   573   C0262926:History (Medical History) [Finding]', '   573   C0011847:Diabetes [Disease or Syndrome]', 'Meta Mapping (640):', '   573   C0439508:/Year (per year) [Temporal Concept]', '   573   C0580836:Old [Temporal Concept]', '   739   C0043210:WOMAN (Woman) [Population Group]', '   573   C0262926:History (Medical History) [Finding]', '   573   C0011849:Diabetes (Diabetes Mellitus) [Disease or Syndrome]', 'Meta Mapping (640):', '   573   C0439508:/Year (per year) [Temporal Concept]', '   573   C0580836:Old [Temporal Concept]', '   739   C0043210:WOMAN (Woman) [Population Group]', '   573   C1705255:History (Concept History) [Conceptual Entity]', '   573   C0011847:Diabetes [Disease or Syndrome]', 'Meta Mapping (640):', '   573   C0439508:/Year (per year) [Temporal Concept]', '   573   C0580836:Old [Temporal Concept]', '   739   C0043210:WOMAN (Woman) [Population Group]', '   573   C1705255:History (Concept History) [Conceptual Entity]', '   573   C0011849:Diabetes (Diabetes Mellitus) [Disease or Syndrome]', 'Meta Mapping (640):', '   573   C0439508:/Year (per year) [Temporal Concept]', '   573   C0580836:Old [Temporal Concept]', '   739   C0043210:WOMAN (Woman) [Population Group]', '   573   C2004062:History (History of previous events) [Finding]', '   573   C0011847:Diabetes [Disease or Syndrome]', 'Meta Mapping (640):', '   573   C0439508:/Year (per year) [Temporal Concept]', '   573   C0580836:Old [Temporal Concept]', '   739   C0043210:WOMAN (Woman) [Population Group]', '   573   C2004062:History (History of previous events) [Finding]', '   573   C0011849:Diabetes (Diabetes Mellitus) [Disease or Syndrome]', '', 'Phrase: chronic kidney disease ,', 'Meta Mapping (1000):', '  1000   C1561643:Chronic Kidney Disease (Chronic Kidney Diseases) [Disease or Syndrome]', '', 'Phrase: congestive heart failure with ejection fraction of 45%', 'Meta Mapping (742):', '   800   C0018802:CONGESTIVE HEART FAILURE (Congestive heart failure) [Disease or Syndrome]', '   604   C0489482:ejection fraction (Ejection fraction (procedure)) [Diagnostic Procedure]', 'Meta Mapping (742):', '   800   C0018802:CONGESTIVE HEART FAILURE (Congestive heart failure) [Disease or Syndrome]', '   604   C2700378:Ejection fraction (Ejection fraction (finding)) [Finding]', 'Meta Mapping (742):', '   800   C0018802:CONGESTIVE HEART FAILURE (Congestive heart failure) [Disease or Syndrome]', '   578   C0302131:Ejection (Ejection as a Circumstance of Injury) [Phenomenon or Process]', '   604   C1264633:Fraction of [Quantitative Concept]', 'Meta Mapping (742):', '   800   C0018802:CONGESTIVE HEART FAILURE (Congestive heart failure) [Disease or Syndrome]', '   578   C0336969:Ejection (Ejection as a Sports activity) [Daily or Recreational Activity]', '   604   C1264633:Fraction of [Quantitative Concept]', 'Meta Mapping (742):', '   800   C0018802:CONGESTIVE HEART FAILURE (Congestive heart failure) [Disease or Syndrome]', '   578   C0812388:ejection (Ejection time) [Organism Attribute]', '   604   C1264633:Fraction of [Quantitative Concept]', '', 'Phrase: to 50%', 'Meta Mapping (1000):', '  1000   C3842586:50% [Finding]', 'Meta Mapping (1000):', '  1000   C3843766:<50 [Finding]', '', 'Phrase: who', '', 'Phrase: presents from clinic', 'Meta Mapping (746):', '   790   C0150312:Present [Quantitative Concept]', '   790   C0002424:Clinic (Ambulatory Care Facilities) [Health Care Related Organization,Manufactured Object]', 'Meta Mapping (746):', '   790   C0150312:Present [Quantitative Concept]', '   790   C0442592:Clinic [Health Care Related Organization,Manufactured Object]', 'Meta Mapping (746):', '   790   C0449450:Present (Presentation) [Idea or Concept]', '   790   C0002424:Clinic (Ambulatory Care Facilities) [Health Care Related Organization,Manufactured Object]', 'Meta Mapping (746):', '   790   C0449450:Present (Presentation) [Idea or Concept]', '   790   C0442592:Clinic [Health Care Related Organization,Manufactured Object]', '', 'Phrase: with a chief complaint of fatigue', 'Meta Mapping (722):', '   790   C0277786:Chief Complaint (Chief complaint (finding)) [Finding]', '   586   C0015672:FATIGUE (Fatigue) [Sign or Symptom]', 'Meta Mapping (722):', '   790   C0277786:Chief Complaint (Chief complaint (finding)) [Finding]', '   586   C4050243:Fatigue (Fatigue Subordinate Domain) [Intellectual Product]', '', 'Phrase: and', '', 'Phrase: weakness for one week.', 'Meta Mapping (783):', '   770   C3714552:WEAKNESS (Weakness) [Sign or Symptom]', '   666   C4082116:One week [Temporal Concept]', 'Processing 00000000.tx.6: She had had worsening right groin and hip pain , status post a total hip replacement approximately 13 years ago which had been worsening for two weeks , and she has also recently completed a course of Levaquin for urinary tract infection.  ', '', 'Phrase: She', '', 'Phrase: had', '', 'Phrase: had', '', 'Phrase: worsening right groin', 'Meta Mapping (901):', '   660   C0332271:Worsening (Worsening pattern) [Qualitative Concept]', '   901   C0230318:Right Groin (Right inguinal region) [Body Location or Region]', 'Meta Mapping (901):', '   660   C1457868:Worsening (Worse) [Finding]', '   901   C0230318:Right Groin (Right inguinal region) [Body Location or Region]', 'Meta Mapping (901):', '   660   C1546960:Worsening (Patient Outcome - Worsening) [Idea or Concept]', '   901   C0230318:Right Groin (Right inguinal region) [Body Location or Region]', '', 'Phrase: and', '', 'Phrase: hip pain ,', 'Meta Mapping (1000):', '  1000   C0019559:HIP PAIN (Hip pain) [Sign or Symptom]', '', 'Phrase: status post a total hip replacement approximately 13 years ago', 'Meta Mapping (787):', '   679   C0040508:Total Hip Replacement (Total Hip Replacement (procedure)) [Therapeutic or Preventive Procedure]', '   629   C0332232:Approximately (Approximate) [Qualitative Concept]', '   795   C0439234:YEARS (year) [Temporal Concept]', '', 'Phrase: which', '', 'Phrase: had', '', 'Phrase: been', '', 'Phrase: worsening for two weeks ,', 'Meta Mapping (783):', '   770   C0332271:Worsening (Worsening pattern) [Qualitative Concept]', '   833   C4082118:Two weeks [Temporal Concept]', 'Meta Mapping (783):', '   770   C1457868:Worsening (Worse) [Finding]', '   833   C4082118:Two weeks [Temporal Concept]', 'Meta Mapping (783):', '   770   C1546960:Worsening (Patient Outcome - Worsening) [Idea or Concept]', '   833   C4082118:Two weeks [Temporal Concept]', '', 'Phrase: and', '', 'Phrase: she', '', 'Phrase: has', '', 'Phrase: also', '', 'Phrase: recently', 'Meta Mapping (1000):', '  1000   C0332185:Recently (Recent) [Temporal Concept]', '', 'Phrase: completed', 'Meta Mapping (1000):', '  1000   C0205197:COMPLETED (Complete) [Qualitative Concept]', 'Meta Mapping (1000):', '  1000   C3854010:completed (completed - RoleLinkStatus) [Idea or Concept]', '', 'Phrase: a course of Levaquin', 'Meta Mapping (708):', '   770   C0750729:Course [Temporal Concept]', '   604   C0721336:Levaquin [Organic Chemical,Pharmacologic Substance]', '', 'Phrase: for urinary tract infection.', 'Meta Mapping (1000):', '  1000   C0042029:URINARY TRACT INFECTION (Urinary tract infection) [Disease or Syndrome]', 'Meta Mapping (1000):', '  1000   C0262655:Urinary tract infection (Recurrent urinary tract infection) [Disease or Syndrome]', 'Processing 00000000.tx.7: She presented to Dr. ', '', 'Phrase: She', '', 'Phrase: presented to Dr.', 'Meta Mapping (746):', '   790   C0449450:Presented (Presentation) [Idea or Concept]', '   790   C0013014:DR (Dominican Republic) [Geographic Area]', 'Meta Mapping (746):', '   790   C0449450:Presented (Presentation) [Idea or Concept]', '   790   C0031831:DR (Physicians) [Professional or Occupational Group]', 'Meta Mapping (746):', '   790   C0449450:Presented (Presentation) [Idea or Concept]', '   790   C1707664:DR (Delayed Release Dosage Form) [Biomedical or Dental Material]', 'Meta Mapping (746):', '   790   C0449450:Presented (Presentation) [Idea or Concept]', '   790   C2348314:Dr. (Doctor - Title) [Conceptual Entity]', 'Meta Mapping (746):', '   790   C0449450:Presented (Presentation) [Idea or Concept]', '   790   C3540849:DR (Device to Subject Relationship Domain) [Intellectual Product]', 'Processing 00000000.tx.8: Bulow office complaining of fatigue and weakness for one week.  ', '', 'Phrase: Bulow office complaining of fatigue', 'Meta Mapping (520):', '   593   C0442603:Office [Manufactured Object]', '   593   C0015672:FATIGUE (Fatigue) [Sign or Symptom]', 'Meta Mapping (520):', '   593   C0442603:Office [Manufactured Object]', '   593   C4050243:Fatigue (Fatigue Subordinate Domain) [Intellectual Product]', '', 'Phrase: and', '', 'Phrase: weakness for one week.', 'Meta Mapping (783):', '   770   C3714552:WEAKNESS (Weakness) [Sign or Symptom]', '   666   C4082116:One week [Temporal Concept]', 'Processing 00000000.tx.9: She has had some abdominal pain in a band-like distribution around her right side.  ', '', 'Phrase: She', '', 'Phrase: has', '', 'Phrase: had', '', 'Phrase: some abdominal pain in a band-', 'Meta Mapping (746):', '   790   C0000737:ABDOMINAL PAIN (Abdominal Pain) [Sign or Symptom]', '   623   C0230715:A band [Cell Component]', '', 'Phrase: like distribution around her right side.', 'Meta Mapping (722):', '   753   C0520511:Distribution (Distributing) [Idea or Concept]', '   623   C0205090:Right side (Right) [Spatial Concept]', 'Meta Mapping (722):', '   753   C1704711:Distribution [Functional Concept]', '   623   C0205090:Right side (Right) [Spatial Concept]', 'Processing 00000000.tx.10: She was found to have a hematocrit of 21 down from 30 eight days ago and was sent to the emergency department for transfusion and workup of her anemia.  ', '', 'Phrase: She', '', 'Phrase: was', '', 'Phrase: found', 'Meta Mapping (1000):', '  1000   C0150312:Found (Present) [Quantitative Concept]', '', 'Phrase: to', 'Meta Mapping (1000):', '  1000   C0040363:TO (Togo) [Geographic Area]', 'Meta Mapping (1000):', '  1000   C0041260:TO (Tryptophanase) [Amino Acid, Peptide, or Protein,Enzyme]', 'Meta Mapping (1000):', '  1000   C1883351:To [Qualitative Concept]', '', 'Phrase: have', '', 'Phrase: a hematocrit of 21', 'Meta Mapping (770):', '   770   C0018935:Hematocrit (Hematocrit procedure) [Laboratory Procedure]', 'Meta Mapping (770):', '   770   C0518014:Hematocrit (Hematocrit level) [Finding]', '', 'Phrase: down from 30 eight days ago', 'Meta Mapping (734):', '   783   C4028326:30 days [Temporal Concept]', '   753   C0205454:Eight [Quantitative Concept]', '', 'Phrase: and', '', 'Phrase: was', '', 'Phrase: sent to the emergency department', 'Meta Mapping (745):', '   760   C1519246:Sent (Send (transmission)) [Functional Concept]', '   806   C0562508:Emergency Department (Accident and Emergency department) [Health Care Related Organization]', '', 'Phrase: for transfusion', 'Meta Mapping (1000):', '  1000   C0005841:Transfusion (Blood Transfusion) [Therapeutic or Preventive Procedure]', 'Meta Mapping (1000):', '  1000   C0199960:Transfusion (Transfusion - action) [Functional Concept]', 'Meta Mapping (1000):', '  1000   C1879316:Transfusion (Transfusion (procedure)) [Therapeutic or Preventive Procedure]', '', 'Phrase: and', '', 'Phrase: workup of her anemia.', 'Meta Mapping (720):', '   770   C0750430:Work-up (work up) [Diagnostic Procedure]', '   604   C0002871:ANEMIA (Anemia) [Disease or Syndrome]', 'Meta Mapping (720):', '   770   C0750430:Work-up (work up) [Diagnostic Procedure]', '   604   C1000483:Anemia (Genus Anemia) [Plant]']\n"
     ]
    }
   ],
   "source": [
    "print(hpi[0])"
   ]
  },
  {
   "cell_type": "code",
   "execution_count": null,
   "metadata": {
    "collapsed": true
   },
   "outputs": [],
   "source": [
    "import datetime\n",
    "import re\n",
    "note_id = []\n",
    "section_concept_id = []\n",
    "snippet = []\n",
    "offset = []\n",
    "lexical_variant = []\n",
    "note_nlp_concept_id = []\n",
    "nlp_system = []\n",
    "nlp_date_time = []\n",
    "term_exists = []\n",
    "\n",
    "\n",
    "stopwords = ['and', 'is', 'She', 'He', 'is', 'who','The patient','the patient' 'Who','This', 'had', 'which', 'been', 'has', 'recently','more']\n",
    "section_dict = {'PRINCIPAL DIAGNOSIS':'1', 'SECONDARY DIAGONSES':'2','HISTORY OF PRESENT ILLNESS':'3',\n",
    "                'PAST MEDICAL HISTORY':'4','PHYSICAL EXAMINATION ON DISCHARGE':'5'}\n",
    "def get_section_name(table):\n",
    "    if table == pd:\n",
    "        section = 'PRINCIPAL DIAGNOSIS'\n",
    "    elif table == sd:\n",
    "        section = 'SECONDARY DIAGONSES'\n",
    "    elif table == hpi:\n",
    "        section = 'HISTORY OF PRESENT ILLNESS'\n",
    "    elif table == pmh:\n",
    "        section = 'PAST MEDICAL HISTORY'\n",
    "    else:\n",
    "        section = 'PHYSICAL EXAMINATION ON DISCHARGE'\n",
    "    return section\n",
    "\n",
    "def create_table(table,i):\n",
    "    section = get_section_name(table)\n",
    "    for j in range(len(table[i])):\n",
    "        phrase = table[i][j].find('Phrase: ')\n",
    "        if phrase !=-1 and table[i][j].find('PRINCIPAL DIAGNOSIS')==-1 and table[i][j].find('SECONDARY DIAGNOSES')==-1 and table[i][j].find('HISTORY OF PRESENT ILLNESS') and table[i][j].find('PAST MEDICAL HISTORY') and table[i][j].find('PHYSICAL EXAMINATION ON DISCHARGE')  ==-1:\n",
    "            if table[i][j][8].isalpha() and table[i][j] not in stopwords:\n",
    "                # i is record number, j is line number\n",
    "                num = j+1\n",
    "                cui = []    \n",
    "                if(num>=len(table[i])):\n",
    "                    pass\n",
    "                else:\n",
    "                    while table[i][num].find('Phrase') == -1:\n",
    "                        cui_find = re.search('[C][0-9]{7,8}', table[i][num])\n",
    "                        if cui_find:\n",
    "                            cui.append(cui_find[0])\n",
    "                        if num==len(table[i])-1:\n",
    "                            break\n",
    "                        else:\n",
    "                            num+=1\n",
    "                    cui_2 = list(set(cui)) \n",
    "                    cui_2.sort(key=cui.index) \n",
    "\n",
    "                    for number in range(len(cui_2)):\n",
    "                        lexical_variant.append(table[i][j][8:])\n",
    "                        note_id.append(str(i+1))\n",
    "                        section_concept_id.append(section_dict[section])\n",
    "                        term_exists.append('Y')\n",
    "                        nlp_system.append('Manual curation')\n",
    "                        nlp_date_time.append('3/9/2018  9:44:07 PM') \n",
    "                        offset.append('?')\n",
    "                        note_nlp_concept_id.append(cui_2[number])\n",
    "\n",
    "for i in range(len(pd)):\n",
    "    if pd[i]:\n",
    "        create_table(pd,i)\n",
    "    if sd[i]:\n",
    "        create_table(sd,i)\n",
    "    if hpi[i]:\n",
    "        create_table(hpi,i)\n",
    "    if pmh[i]:\n",
    "        create_table(pmh,i)\n",
    "    if ped[i]:\n",
    "        create_table(ped,i)\n",
    "\n",
    "length = len(term_exists)\n",
    "note_nlp_id =list(range(1,length+1))\n",
    "snippet = ['0' for x in range(length)]\n",
    "note_nlp_id = list(range(1,length+1))"
   ]
  },
  {
   "cell_type": "code",
   "execution_count": 41,
   "metadata": {},
   "outputs": [
    {
     "name": "stdout",
     "output_type": "stream",
     "text": [
      "['C0002871', 'C1000483', 'C1708130', 'C3539617', 'C4050121', 'C0019080', 'C0011847', 'C0011849', 'C0026268', 'C0004238', 'C0344434', 'C1963067', 'C1561643', 'C0262512', 'C0488508', 'C0030705', 'C2360836', 'C2360838', 'C2360840', 'C0439234', 'C0580836', 'C0043210', 'C0019664', 'C0011847', 'C0011849', 'C0019665', 'C0262512', 'C0262926', 'C1705255', 'C2004062', 'C0439508', 'C1561643', 'C0018802', 'C0489482', 'C2700378', 'C0302131', 'C1264633', 'C0336969', 'C0812388', 'C3842586', 'C3843766', 'C0150312', 'C0002424', 'C0442592', 'C0449450', 'C0277786', 'C0015672', 'C4050243', 'C3714552', 'C4082116', 'C0332271', 'C0230318', 'C1457868', 'C1546960', 'C0019559', 'C0040508', 'C0332232', 'C0439234', 'C0332271', 'C4082118', 'C1457868', 'C1546960', 'C0332185', 'C0205197', 'C3854010', 'C0750729', 'C0721336', 'C0042029', 'C0262655', 'C0449450', 'C0013014', 'C0031831', 'C1707664', 'C2348314', 'C3540849', 'C0442603', 'C0015672', 'C4050243', 'C3714552', 'C4082116', 'C0000737', 'C0230715', 'C0520511', 'C0205090', 'C1704711', 'C0150312', 'C0040363', 'C0041260', 'C1883351', 'C0018935', 'C0518014', 'C4028326', 'C0205454', 'C1519246', 'C0562508', 'C0005841', 'C0199960', 'C1879316', 'C0750430', 'C0002871']\n"
     ]
    }
   ],
   "source": [
    "print(note_nlp_concept_id[0:100])"
   ]
  },
  {
   "cell_type": "code",
   "execution_count": 42,
   "metadata": {},
   "outputs": [
    {
     "name": "stdout",
     "output_type": "stream",
     "text": [
      "212057 212057 212057 212057 212057 212057 212057 212057 212057\n"
     ]
    }
   ],
   "source": [
    "print(len(note_nlp_id), len(note_id), len(section_concept_id), len(snippet), \n",
    "      len(lexical_variant), len(note_nlp_concept_id), len(nlp_system),len(nlp_date_time), len(term_exists))"
   ]
  },
  {
   "cell_type": "code",
   "execution_count": 43,
   "metadata": {
    "collapsed": true
   },
   "outputs": [],
   "source": [
    "import pandas\n",
    "columns = ['note_nlp_id','note_id','section_concept_id', 'snippet', 'offset', \n",
    "           'lexical_variant', 'note_nlp_concept_id','nlp_system','nlp_date_time', 'term_exists']\n",
    "dataframe = pandas.DataFrame({'note_nlp_id':note_nlp_id,'note_id':note_id,'section_concept_id':section_concept_id,\n",
    "                              'snippet': snippet, 'offset':offset, 'lexical_variant':lexical_variant,\n",
    "                              'note_nlp_concept_id':note_nlp_concept_id, 'nlp_system':nlp_system, 'nlp_date_time':nlp_date_time,\n",
    "                              'term_exists':term_exists})\n",
    "dataframe.to_csv(\"test.csv\",index=False,sep=',',columns=columns)"
   ]
  },
  {
   "cell_type": "code",
   "execution_count": 20,
   "metadata": {
    "scrolled": true
   },
   "outputs": [
    {
     "name": "stdout",
     "output_type": "stream",
     "text": [
      "13189\n"
     ]
    }
   ],
   "source": [
    "a = note_nlp_concept_id\n",
    "b = list(set(a))\n",
    "print(len(b))"
   ]
  },
  {
   "cell_type": "code",
   "execution_count": 25,
   "metadata": {
    "collapsed": true,
    "scrolled": true
   },
   "outputs": [],
   "source": [
    "import pandas\n",
    "columns = ['note_nlp_id','note_id','section_concept_id', 'snippet', 'offset', \n",
    "           'lexical_variant', 'note_nlp_concept_id','nlp_system','nlp_date_time', 'term_exists']\n",
    "dataframe = pandas.DataFrame({'note_nlp_id':note_nlp_id[:10000],'note_id':note_id[:10000],'section_concept_id':section_concept_id[:10000],\n",
    "                              'snippet': snippet[:10000], 'offset':offset[:10000], 'lexical_variant':lexical_variant[:10000],\n",
    "                              'note_nlp_concept_id':note_nlp_concept_id[:10000], 'nlp_system':nlp_system[:10000], 'nlp_date_time':nlp_date_time[:10000],\n",
    "                              'term_exists':term_exists[:10000]})\n",
    "dataframe.to_csv(\"kankan.csv\",index=False,sep=',',columns=columns)"
   ]
  }
 ],
 "metadata": {
  "kernelspec": {
   "display_name": "Python 3",
   "language": "python",
   "name": "python3"
  },
  "language_info": {
   "codemirror_mode": {
    "name": "ipython",
    "version": 3
   },
   "file_extension": ".py",
   "mimetype": "text/x-python",
   "name": "python",
   "nbconvert_exporter": "python",
   "pygments_lexer": "ipython3",
   "version": "3.6.1"
  }
 },
 "nbformat": 4,
 "nbformat_minor": 2
}
